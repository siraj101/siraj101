{
  "nbformat": 4,
  "nbformat_minor": 0,
  "metadata": {
    "colab": {
      "name": "Homework 2.ipynb",
      "provenance": [],
      "include_colab_link": true
    },
    "kernelspec": {
      "name": "python3",
      "display_name": "Python 3"
    }
  },
  "cells": [
    {
      "cell_type": "markdown",
      "metadata": {
        "id": "view-in-github",
        "colab_type": "text"
      },
      "source": [
        "<a href=\"https://colab.research.google.com/github/siraj101/siraj101/blob/main/Homework_2.ipynb\" target=\"_parent\"><img src=\"https://colab.research.google.com/assets/colab-badge.svg\" alt=\"Open In Colab\"/></a>"
      ]
    },
    {
      "cell_type": "markdown",
      "metadata": {
        "id": "lBQ8vSOHHLka"
      },
      "source": [
        "### Homework\n",
        "Using the functional API\n",
        "1. Choose 4 hyperparameters we have learned about in class\n",
        "2. Create lists of the different options of hyperparameters\n",
        "3. Randomly sample from those lists and train a Keras model on Fashion - MNIST and train 10 different models\n",
        "4. Display the different loss and accuracy curves using matplotlib\n",
        "5. Print hyperparameters of the best model you come up with\n",
        "** train at least 10 different models"
      ]
    },
    {
      "cell_type": "code",
      "metadata": {
        "id": "P7rtJiJbHKqi"
      },
      "source": [
        "model.add()\n",
        "model.compile\n",
        "model.fit()"
      ],
      "execution_count": null,
      "outputs": []
    }
  ]
}